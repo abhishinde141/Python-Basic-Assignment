{
 "cells": [
  {
   "cell_type": "markdown",
   "id": "24e7b06b",
   "metadata": {},
   "source": [
    "# 1. In the below elements which of them are values or an expression? eg:- values can be integer or string and expressions will be mathematical operators. *, 'hello', -87.8, -, /, +, 6 "
   ]
  },
  {
   "cell_type": "markdown",
   "id": "c62fe20b",
   "metadata": {},
   "source": [
    "Ans : * : expression, 'hello' : value, -87.8 : value, - : expression, / : expression, 6 : value"
   ]
  },
  {
   "cell_type": "markdown",
   "id": "8968f938",
   "metadata": {},
   "source": [
    "# 2. What is the difference between string and variable?"
   ]
  },
  {
   "cell_type": "markdown",
   "id": "fa6eb498",
   "metadata": {},
   "source": [
    "Ans :\n",
    "A variable is something that can holds data/value that may change. You can use variable to store all kind of data like string, integer, float, list, dict and so on. \n",
    "e.g. var = 1, var is variable\n",
    "String is collection of characters in order or we can say sequence of characters. It can be stored in variable.\n",
    "e.g. \"ABHI\"\n",
    "name : \"ABHIJEET\" , string \"ABHIJEET\" is stored in name variable"
   ]
  },
  {
   "cell_type": "markdown",
   "id": "eb8b9e37",
   "metadata": {},
   "source": [
    "# 3. Describe three different data types."
   ]
  },
  {
   "cell_type": "markdown",
   "id": "72a3ba9e",
   "metadata": {},
   "source": [
    "Data types : integer, string, float, boolean, complex, list, tuple"
   ]
  },
  {
   "cell_type": "markdown",
   "id": "44047d26",
   "metadata": {},
   "source": [
    "# 4. What is an expression made up of? What do all expressions do?"
   ]
  },
  {
   "cell_type": "markdown",
   "id": "6fd331ea",
   "metadata": {},
   "source": [
    "Ans :\n",
    "Expression is made up of values, variables and operators. It always evaluate down to a single value."
   ]
  },
  {
   "cell_type": "markdown",
   "id": "f11ea440",
   "metadata": {},
   "source": [
    "# 5. This assignment statements, like spam = 10. What is the difference between an expression and a statement?"
   ]
  },
  {
   "cell_type": "markdown",
   "id": "716242b8",
   "metadata": {},
   "source": [
    "Ans:\n",
    "Expression always evaluates to a value. While A statement does something, like creating a variable or displaying a value."
   ]
  },
  {
   "cell_type": "markdown",
   "id": "26836ad0",
   "metadata": {},
   "source": [
    "# 6. After running the following code, what does the variable bacon contain?\n",
    "bacon = 22\n",
    "\n",
    "bacon + 1"
   ]
  },
  {
   "cell_type": "markdown",
   "id": "2fc5b24e",
   "metadata": {},
   "source": [
    "Ans:\n",
    "22"
   ]
  },
  {
   "cell_type": "markdown",
   "id": "b3a05ac9",
   "metadata": {},
   "source": [
    "# 7. What should the values of the following two terms be?\n",
    "'spam' + 'spamspam'\n",
    "\n",
    "'spam' * 3"
   ]
  },
  {
   "cell_type": "markdown",
   "id": "64eca133",
   "metadata": {},
   "source": [
    "Ans:\n",
    "\n",
    "'spamspamspam'\n",
    "\n",
    "'spamspamspam'"
   ]
  },
  {
   "cell_type": "markdown",
   "id": "0a47cea6",
   "metadata": {},
   "source": [
    "# 8. Why is eggs a valid variable name while 100 is invalid?"
   ]
  },
  {
   "cell_type": "markdown",
   "id": "a29606c4",
   "metadata": {},
   "source": [
    "Ans :\n",
    "A variable name cannot start with a number."
   ]
  },
  {
   "cell_type": "markdown",
   "id": "9cc1de2f",
   "metadata": {},
   "source": [
    "# 9. What three functions can be used to get the integer, floating-point number, or string version of a value?"
   ]
  },
  {
   "cell_type": "markdown",
   "id": "788c52fa",
   "metadata": {},
   "source": [
    "Ans :\n",
    "\n",
    "int()\n",
    "\n",
    "float()\n",
    "\n",
    "str()"
   ]
  },
  {
   "cell_type": "markdown",
   "id": "9f0a56f8",
   "metadata": {},
   "source": [
    "# 10. Why does this expression cause an error? How can you fix it?\n",
    "'I have eaten ' + 99 + ' burritos.'"
   ]
  },
  {
   "cell_type": "markdown",
   "id": "381d1f21",
   "metadata": {},
   "source": [
    "Ans :\n",
    "Strings can not concatenate with number.\n",
    "\n",
    "'I have eaten ' + str(99) + ' burritos.'"
   ]
  }
 ],
 "metadata": {
  "kernelspec": {
   "display_name": "Python 3 (ipykernel)",
   "language": "python",
   "name": "python3"
  },
  "language_info": {
   "codemirror_mode": {
    "name": "ipython",
    "version": 3
   },
   "file_extension": ".py",
   "mimetype": "text/x-python",
   "name": "python",
   "nbconvert_exporter": "python",
   "pygments_lexer": "ipython3",
   "version": "3.9.7"
  }
 },
 "nbformat": 4,
 "nbformat_minor": 5
}
