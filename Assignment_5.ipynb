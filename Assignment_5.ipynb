{
 "cells": [
  {
   "cell_type": "markdown",
   "id": "4c91f225",
   "metadata": {},
   "source": [
    "## 1. What does an empty dictionary's code look like?\n",
    "d=dict() or d={}\n",
    "\n",
    "\n",
    "## 2. What is the value of a dictionary value with the key 'foo' and the value 42?\n",
    "{'foo':42}\n",
    "\n",
    "## 3. What is the most significant distinction between a dictionary and a list?\n",
    "The items stored in a dictionary are unordered, while the items in a list are ordered.\n",
    "\n",
    "## 4. What happens if you try to access spam['foo'] if spam is {'bar': 100}?\n",
    "You get a 'KeyError' error.\n",
    "\n",
    "## 5. If a dictionary is stored in spam, what is the difference between the expressions 'cat' in spam and 'cat' in spam.keys()?\n",
    "No difference\n",
    "\n",
    "## 6. If a dictionary is stored in spam, what is the difference between the expressions 'cat' in spam and 'cat' in spam.values()?\n",
    "'cat' in spam checks whether there is a 'cat' key in the dictionary, while 'cat' in spam.values() checks whether there is a value 'cat' for one of the keys in spam.\n",
    "\n",
    "## 7. What is a shortcut for the following code?\n",
    "if 'color' not in spam:\n",
    "    \n",
    "    spam['color'] = 'black'\n",
    "    \n",
    "Ans :\n",
    "spam.setdefault('color', 'black')\n",
    "\n",
    "## 8. How do you \"pretty print\" dictionary values using which module and function?\n",
    "pprint.pprint()"
   ]
  },
  {
   "cell_type": "code",
   "execution_count": null,
   "id": "b287e991",
   "metadata": {},
   "outputs": [],
   "source": []
  }
 ],
 "metadata": {
  "kernelspec": {
   "display_name": "Python 3 (ipykernel)",
   "language": "python",
   "name": "python3"
  },
  "language_info": {
   "codemirror_mode": {
    "name": "ipython",
    "version": 3
   },
   "file_extension": ".py",
   "mimetype": "text/x-python",
   "name": "python",
   "nbconvert_exporter": "python",
   "pygments_lexer": "ipython3",
   "version": "3.9.7"
  }
 },
 "nbformat": 4,
 "nbformat_minor": 5
}
