{
 "cells": [
  {
   "cell_type": "markdown",
   "id": "d7938150",
   "metadata": {},
   "source": [
    "## 1. What are escape characters, and how do you use them?\n",
    "An escape character is a backslash \\ followed by the character you want to insert.\n",
    "For example:"
   ]
  },
  {
   "cell_type": "code",
   "execution_count": 19,
   "id": "a39db73e",
   "metadata": {},
   "outputs": [
    {
     "ename": "SyntaxError",
     "evalue": "invalid syntax (Temp/ipykernel_4948/2149413634.py, line 1)",
     "output_type": "error",
     "traceback": [
      "\u001b[1;36m  File \u001b[1;32m\"C:\\Users\\abhis\\AppData\\Local\\Temp/ipykernel_4948/2149413634.py\"\u001b[1;36m, line \u001b[1;32m1\u001b[0m\n\u001b[1;33m    print('Hey, What's up?')\u001b[0m\n\u001b[1;37m                     ^\u001b[0m\n\u001b[1;31mSyntaxError\u001b[0m\u001b[1;31m:\u001b[0m invalid syntax\n"
     ]
    }
   ],
   "source": [
    "print('Hey, What's up?')"
   ]
  },
  {
   "cell_type": "markdown",
   "id": "c426ebb6",
   "metadata": {},
   "source": [
    "#### To fix this issue, we can use escape '\\\\' character"
   ]
  },
  {
   "cell_type": "code",
   "execution_count": 20,
   "id": "3f5b579b",
   "metadata": {},
   "outputs": [
    {
     "name": "stdout",
     "output_type": "stream",
     "text": [
      "Hey, What's up?\n"
     ]
    }
   ],
   "source": [
    "print('Hey, What\\'s up?')"
   ]
  },
  {
   "cell_type": "markdown",
   "id": "387b5529",
   "metadata": {},
   "source": [
    "## 2. What do the escape characters n and t stand for?\n",
    "\\n is used for Newline and \\t is used for Tab\n",
    "\n",
    "## 3. What is the way to include backslash characters in a string?\n",
    "If you want backslash in the string, you have to write two: \\\\\n",
    "\n",
    "## 4. The string \"Howl's Moving Castle\" is a correct value. Why isn't the single quote character in the word Howl's not escaped a problem?\n",
    "The single quote in Howl's is fine because you've used double quotes to mark the beginning and end of the string.\n",
    "\n",
    "## 5. How do you write a string of newlines if you don't want to use the n character?\n",
    "using multiline strings i.e \"\"\" \"\"\"\"\n",
    "\n",
    "## 6. What are the values of the given expressions?\n",
    "'Hello, world!'[1] : 'e'\n",
    "\n",
    "'Hello, world!'[0:5] : 'Hello'\n",
    "\n",
    "'Hello, world!'[:5] : 'Hello'\n",
    "\n",
    "'Hello, world!'[3:] : 'lo, world!'\n",
    "\n",
    "## 7. What are the values of the following expressions?\n",
    "print('Hello'.upper()) : 'HELLO'\n",
    "\n",
    "print('Hello'.upper().isupper()) : 'True'\n",
    "\n",
    "print('Hello'.upper().lower()) : 'hello'\n",
    "\n",
    "## 8. What are the values of the following expressions?\n",
    "'Remember, remember, the fifth of July.'.split() : ['Remember,', 'remember,', 'the', 'fifth', 'of', 'July.']\n",
    "\n",
    "'-'.join('There can only one.'.split()) : There-can-only-one.\n",
    "\n",
    "## 9. What are the methods for right-justifying, left-justifying, and centering a string?\n",
    "rjust(), ljust(), and center() string methods\n",
    "\n",
    "## 10. What is the best way to remove whitespace characters from the start or end?\n",
    "lstrip() and rstrip() methods remove whitespace from the left and right ends of a string\n"
   ]
  }
 ],
 "metadata": {
  "kernelspec": {
   "display_name": "Python 3 (ipykernel)",
   "language": "python",
   "name": "python3"
  },
  "language_info": {
   "codemirror_mode": {
    "name": "ipython",
    "version": 3
   },
   "file_extension": ".py",
   "mimetype": "text/x-python",
   "name": "python",
   "nbconvert_exporter": "python",
   "pygments_lexer": "ipython3",
   "version": "3.9.7"
  }
 },
 "nbformat": 4,
 "nbformat_minor": 5
}
