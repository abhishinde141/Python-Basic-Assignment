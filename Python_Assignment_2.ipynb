{
 "cells": [
  {
   "cell_type": "markdown",
   "id": "7837820a",
   "metadata": {},
   "source": [
    "# 1.What are the two values of the Boolean data type?\n",
    "TRUE and FALSE\n",
    "## How do you write them?\n",
    "True\n",
    "\n",
    "False"
   ]
  },
  {
   "cell_type": "markdown",
   "id": "4a93fcfd",
   "metadata": {},
   "source": [
    "# 2. What are the three different types of Boolean operators?\n",
    " and\n",
    " \n",
    " or\n",
    " \n",
    " not"
   ]
  },
  {
   "cell_type": "markdown",
   "id": "b81c4dbd",
   "metadata": {},
   "source": [
    "# 3. Make a list of each Boolean operator's truth tables (i.e. every possible combination of Boolean values for the operator and what it evaluate ).\n",
    "AND Truth table:\n",
    "\n",
    "T T : T\n",
    "\n",
    "T F : F\n",
    "\n",
    "F T : F\n",
    "\n",
    "F F : F\n",
    "\n",
    "OR Truth table:\n",
    "\n",
    "T T : T\n",
    "\n",
    "T F : T\n",
    "\n",
    "F T : T\n",
    "\n",
    "F F : F\n",
    "\n",
    "NOT Truth table:\n",
    "\n",
    "T : F\n",
    "\n",
    "F : T\n",
    "\n"
   ]
  },
  {
   "cell_type": "markdown",
   "id": "412c114e",
   "metadata": {},
   "source": [
    "## 4. What are the values of the following expressions?\n",
    "(5 > 4) and (3 == 5) : False\n",
    "\n",
    "not (5 > 4) : False\n",
    "\n",
    "(5 > 4) or (3 == 5) : True\n",
    "\n",
    "not ((5 > 4) or (3 == 5)) : \n",
    "\n",
    "(True and True) and (True == False) : False\n",
    "\n",
    "(not False) or (not True) : True\n"
   ]
  },
  {
   "cell_type": "markdown",
   "id": "c9253bff",
   "metadata": {},
   "source": [
    "## 5. What are the six comparison operators?\n",
    "Python has six comparison operators, which are as follows:\n",
    "\n",
    "Less than ( < )\n",
    "\n",
    "\n",
    "Less than or equal to (<=)\n",
    "\n",
    "Greater than (>)\n",
    "\n",
    "Greater than or equal to (>=)\n",
    "\n",
    "Equal to ( == )\n",
    "\n",
    "Not equal to ( != )"
   ]
  },
  {
   "cell_type": "markdown",
   "id": "49c82492",
   "metadata": {},
   "source": [
    "## 6. How do you tell the difference between the equal to and assignment operators?\n",
    "\n",
    "The “=” is an assignment operator and is used to assign the value on the right to the variable on the left. The '==' is an equal to operatorand is used to check whether the two given operands are equal or not. If so, it returns true. Otherwise it returns false.\n",
    "\n",
    "## Describe a condition and when you would use one.\n",
    "\n",
    "Assignment Operator is used to assign the value of variable or expression, while == is an Equal to Operator and it is a relation operator used for comparison"
   ]
  },
  {
   "cell_type": "markdown",
   "id": "36848772",
   "metadata": {},
   "source": [
    "## 7. Identify the three blocks in this code:\n",
    "spam = 0\n",
    "\n",
    "if spam == 10:\n",
    "\n",
    "print('eggs')\n",
    "\n",
    "if spam > 5:\n",
    "\n",
    "print('bacon')\n",
    "\n",
    "else:\n",
    "\n",
    "print('ham')\n",
    "\n",
    "print('spam')\n",
    "\n",
    "print('spam')\n"
   ]
  },
  {
   "cell_type": "code",
   "execution_count": 9,
   "id": "3115d21d",
   "metadata": {},
   "outputs": [
    {
     "name": "stdout",
     "output_type": "stream",
     "text": [
      "ham\n",
      "spam\n",
      "spam\n"
     ]
    }
   ],
   "source": [
    "spam = 0\n",
    "\n",
    "if spam == 10:\n",
    "\n",
    "    print('eggs')\n",
    "\n",
    "if spam > 5:\n",
    "\n",
    "    print('bacon')\n",
    "\n",
    "else:\n",
    "\n",
    "    print('ham')\n",
    "\n",
    "    print('spam')\n",
    "\n",
    "    print('spam')"
   ]
  },
  {
   "cell_type": "markdown",
   "id": "9e94088e",
   "metadata": {},
   "source": [
    "## 8. Write code that prints Hello if 1 is stored in spam, prints Howdy if 2 is stored in spam, and prints Greetings! if anything else is stored in spam."
   ]
  },
  {
   "cell_type": "code",
   "execution_count": 18,
   "id": "e1ad23c3",
   "metadata": {},
   "outputs": [
    {
     "name": "stdout",
     "output_type": "stream",
     "text": [
      "Greetings!\n"
     ]
    }
   ],
   "source": [
    "spam = 5\n",
    "if spam == 1:\n",
    "    print(\"Hello\")\n",
    "elif spam == 2:\n",
    "    print(\"Howdy\")\n",
    "else :\n",
    "    print(\"Greetings!\")"
   ]
  },
  {
   "cell_type": "markdown",
   "id": "b2e0129d",
   "metadata": {},
   "source": [
    "## 9.If your programme is stuck in an endless loop, what keys you’ll press?\n",
    "In terminal Ctrl + C is pressed and in jupyter notebook interrupt the kernel button is pressed"
   ]
  },
  {
   "cell_type": "markdown",
   "id": "f589fac5",
   "metadata": {},
   "source": [
    "## 10. How can you tell the difference between break and continue?\n",
    "\n",
    "Break terminates the execution of the current loop and passes the control over the next loop or main body, whereas when continue keyword is encountered, it skips the current iteration and executes the very next iteration in the loop. "
   ]
  },
  {
   "cell_type": "markdown",
   "id": "581d6d33",
   "metadata": {},
   "source": [
    "## 11. In a for loop, what is the difference between range(10), range(0, 10), and range(0, 10, 1)?\n",
    "\n",
    "range(10) : It iterates sequence 0 to 9 and here stop = 10 \n",
    "\n",
    "range(0,10) : It iterates sequence 0 to 9 and here start = 0, stop = 10\n",
    "\n",
    "range(0,10,1) : It iterates sequence 0 to 9 and here start = 0, stop = 10 and step = 1"
   ]
  },
  {
   "cell_type": "markdown",
   "id": "14c49357",
   "metadata": {},
   "source": [
    "## 12. Write a short program that prints the numbers 1 to 10 using a for loop. Then write an equivalent program that prints the numbers 1 to 10 using a while loop."
   ]
  },
  {
   "cell_type": "code",
   "execution_count": 27,
   "id": "033ece52",
   "metadata": {},
   "outputs": [
    {
     "name": "stdout",
     "output_type": "stream",
     "text": [
      "1\n",
      "2\n",
      "3\n",
      "4\n",
      "5\n",
      "6\n",
      "7\n",
      "8\n",
      "9\n",
      "10\n"
     ]
    }
   ],
   "source": [
    "#using for loop\n",
    "for i in range(1,11):\n",
    "    print(i)\n"
   ]
  },
  {
   "cell_type": "code",
   "execution_count": 23,
   "id": "b4e5333f",
   "metadata": {},
   "outputs": [
    {
     "name": "stdout",
     "output_type": "stream",
     "text": [
      "1\n",
      "2\n",
      "3\n",
      "4\n",
      "5\n",
      "6\n",
      "7\n",
      "8\n",
      "9\n",
      "10\n"
     ]
    }
   ],
   "source": [
    "#using while loop\n",
    "n=1\n",
    "while n<=10:\n",
    "    print(n)\n",
    "    n+=1"
   ]
  },
  {
   "cell_type": "markdown",
   "id": "ca8f420b",
   "metadata": {},
   "source": [
    "## 13. If you had a function named bacon() inside a module named spam, how would you call it after importing spam?\n",
    "\n",
    "Using dot(.) operator, function can be called\n",
    "\n",
    "e.g. spam.bacon()"
   ]
  }
 ],
 "metadata": {
  "kernelspec": {
   "display_name": "Python 3 (ipykernel)",
   "language": "python",
   "name": "python3"
  },
  "language_info": {
   "codemirror_mode": {
    "name": "ipython",
    "version": 3
   },
   "file_extension": ".py",
   "mimetype": "text/x-python",
   "name": "python",
   "nbconvert_exporter": "python",
   "pygments_lexer": "ipython3",
   "version": "3.9.7"
  }
 },
 "nbformat": 4,
 "nbformat_minor": 5
}
