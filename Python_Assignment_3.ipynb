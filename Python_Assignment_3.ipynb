{
 "cells": [
  {
   "cell_type": "markdown",
   "id": "2578125e",
   "metadata": {},
   "source": [
    "## 1. Why are functions advantageous to have in your programs?\n",
    "It divides the program into smaller parts. Each part do a specific job · It allow user to reuse the code. and enhances the readability of a program.\n",
    "\n",
    "## 2. When does the code in a function run: when it's specified or when it's called?\n",
    "Code in a function runs when it's called\n",
    "\n",
    "## 3. What statement creates a function?\n",
    "def\n",
    "\n",
    "## 4. What is the difference between a function and a function call?\n",
    "A function is a block of code that does a particular operation and returns a result. While function call is using this function to run that task.\n",
    "\n",
    "## 5. How many global scopes are there in a Python program? \n",
    "only one\n",
    "\n",
    "## How many local scopes?\n",
    "As many as you want\n",
    "\n",
    "## 6. What happens to variables in a local scope when the function call returns?\n",
    "the local variables are destroyed or becomes undefined.\n",
    "\n",
    "## 7. What is the concept of a return value?\n",
    "Function returns something to caller when its called, this is concept of return value.\n",
    "\n",
    "## Is it possible to have a return value in an expression?\n",
    "Yes, e.g  sum=add()\n",
    "\n",
    "## 8. If a function does not have a return statement, what is the return value of a call to that function?\n",
    "A default value i.e None\n",
    "\n",
    "\n",
    "## 9. How do you make a function variable refer to the global variable?\n",
    "using global keyword, to declare which variables are global\n",
    "\n",
    "\n",
    "## 10. What is the data type of None?\n",
    "NoneType\n",
    "\n",
    "## 11. What does the sentence import areallyourpetsnamederic do?\n",
    "It imports a module named areallyourpetsnamederic\n",
    "\n",
    "## 12. If you had a bacon() feature in a spam module, what would you call it after importing spam?\n",
    "spam.bacon()\n",
    "\n",
    "## 13. What can you do to save a programme from crashing if it encounters an error?\n",
    "Use try except\n",
    "\n",
    "\n",
    "## 14. What is the purpose of the try clause? What is the purpose of the except clause?\n",
    "The try block is used to test a block of code for errors. The except block is used to handle the error.\n"
   ]
  }
 ],
 "metadata": {
  "kernelspec": {
   "display_name": "Python 3 (ipykernel)",
   "language": "python",
   "name": "python3"
  },
  "language_info": {
   "codemirror_mode": {
    "name": "ipython",
    "version": 3
   },
   "file_extension": ".py",
   "mimetype": "text/x-python",
   "name": "python",
   "nbconvert_exporter": "python",
   "pygments_lexer": "ipython3",
   "version": "3.9.7"
  }
 },
 "nbformat": 4,
 "nbformat_minor": 5
}
