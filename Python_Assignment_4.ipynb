{
 "cells": [
  {
   "cell_type": "markdown",
   "id": "f3bc0f8c",
   "metadata": {},
   "source": [
    "## 1. What exactly is []?\n",
    "list\n",
    "\n",
    "## 2. In a list of values stored in a variable called spam, how would you assign the value 'hello' as the third value? (Assume [2, 4, 6, 8, 10] are in spam.)\n",
    "spam[2]='hello'\n",
    "\n",
    "## Let's pretend the spam includes the list ['a', 'b', 'c', 'd'] for the next three queries.\n",
    "\n",
    "## 3. What is the value of spam[int(int('3' * 2) / 11)]?\n",
    "'d'\n",
    "\n",
    "## 4. What is the value of spam[-1]?\n",
    "'d'\n",
    "\n",
    "## 5. What is the value of spam[:2]?\n",
    "['a', 'b']\n",
    "\n",
    "## Let's pretend bacon has the list [3.14, 'cat', 11, 'cat', True] for the next three questions.\n",
    "\n",
    "## 6. What is the value of bacon.index('cat')?\n",
    "1\n",
    "\n",
    "## 7. How does bacon.append(99) change the look of the list value in bacon?\n",
    "[3.14, 'cat', 11, 'cat', True, 99]\n",
    "\n",
    "## 8. How does bacon.remove('cat') change the look of the list in bacon?\n",
    "[3.14, 11, 'cat', True, 99]\n",
    "\n",
    "## 9. What are the list concatenation and list replication operators?\n",
    "the operator for list concatenation is +, while the operator for replication is *\n",
    "\n",
    "## 10. What is difference between the list methods append() and insert()?\n",
    "with append, you just add a new entry at the end of the list. With insert(position, new_entry) you can create a new entry exactly in the position you want\n",
    "\n",
    "## 11. What are the two methods for removing items from a list?\n",
    "remove(), pop()\n",
    "\n",
    "## 12. Describe how list values and string values are identical.\n",
    "Lists are similar to strings. String is collection of characters i.e single data type and List is collection different data type.\n",
    "\n",
    "## 13. What's the difference between tuples and lists?\n",
    "Difference between the tuples and lists is that the tuples are immutable objects the lists are mutable.\n",
    "\n",
    "## 14. How do you type a tuple value that only contains the integer 42?\n",
    "(42,) \n",
    "\n",
    "The trailing comma is mandatory because Python won’t be able to tell the difference between value and single value tuple\n",
    "\n",
    "## 15. How do you get a list value's tuple form? How do you get a tuple value's list form?\n",
    "Using list() and tuple() methods\n",
    "\n",
    "## 16. Variables that \"contain\" list values are not necessarily lists themselves. Instead, what do they contain?\n",
    "They contain references to list values.\n",
    "\n",
    "\n",
    "## 17. How do you distinguish between copy.copy() and copy.deepcopy()?\n",
    "copy() create reference to original object. If you change copied object - you change the original object.  deepcopy() creates new object and does real copying of original object to new one. Changing new deepcopied object doesn't affect original object.\n"
   ]
  }
 ],
 "metadata": {
  "kernelspec": {
   "display_name": "Python 3 (ipykernel)",
   "language": "python",
   "name": "python3"
  },
  "language_info": {
   "codemirror_mode": {
    "name": "ipython",
    "version": 3
   },
   "file_extension": ".py",
   "mimetype": "text/x-python",
   "name": "python",
   "nbconvert_exporter": "python",
   "pygments_lexer": "ipython3",
   "version": "3.9.7"
  }
 },
 "nbformat": 4,
 "nbformat_minor": 5
}
